{
  "cells": [
    {
      "cell_type": "markdown",
      "metadata": {
        "id": "Ncvg53yd-bP5"
      },
      "source": [
        "# GEO-AI Challenge for Cropland Mapping by ITU\n",
        "_Antoine Saget_\n",
        "\n",
        "In this notebook, the solution for the Zindi GEO-AI Challenge for Cropland Mapping by ITU to achieve a 0.943 acc on the private leaderboard.\n",
        "\n",
        "We also provide a second notebook / python script (simple_reproduction.ipynb / simple_reproduction.py ) with much simpler code that reproduce the same results. \n",
        "This other notebook will probably be easier to integrate in your own workflow as it doesn't rely on any additional file and classes.\n",
        "\n",
        "All parts are independant, you can skip to 5. to reproduce the private leaderboard solutions or start from 1. to get a better understanding of the data download and prepprocessing steps.\n",
        "\n",
        "Notebook table of contents:\n",
        "1. Downloading the data from GEE\n",
        "2. Data preprocessing\n",
        "2. Study on the impact of timerange\n",
        "3. Study on the impact of Sentinel-2 radiometric bands\n",
        "4. Study on the impact of model choices\n",
        "5. Best model"
      ]
    },
    {
      "cell_type": "code",
      "execution_count": 1,
      "metadata": {
        "id": "v_wLzoiFBuCr"
      },
      "outputs": [
        {
          "name": "stderr",
          "output_type": "stream",
          "text": [
            "/usr/lib/python3/dist-packages/requests/__init__.py:87: RequestsDependencyWarning: urllib3 (2.0.5) or chardet (4.0.0) doesn't match a supported version!\n",
            "  warnings.warn(\"urllib3 ({}) or chardet ({}) doesn't match a supported \"\n"
          ]
        }
      ],
      "source": [
        "# Imports and seeds initializations\n",
        "import ee\n",
        "import folium\n",
        "import random\n",
        "import time\n",
        "import numpy as np\n",
        "import pandas as pd\n",
        "import matplotlib.pyplot as plt\n",
        "\n",
        "from tabulate import tabulate\n",
        "from sklearn.ensemble import RandomForestClassifier\n",
        "from sklearn.cluster import KMeans\n",
        "from sklearn.svm import SVC\n",
        "from sklearn.neighbors import KNeighborsClassifier\n",
        "from sklearn.model_selection import train_test_split, KFold\n",
        "from sklearn.metrics import accuracy_score\n",
        "\n",
        "from tqdm import tqdm\n",
        "\n",
        "# Set seed for reproducibility\n",
        "SEED = 2023\n",
        "random.seed(SEED)\n",
        "np.random.seed(SEED)"
      ]
    },
    {
      "cell_type": "code",
      "execution_count": 2,
      "metadata": {},
      "outputs": [],
      "source": [
        "from constants import *"
      ]
    },
    {
      "cell_type": "code",
      "execution_count": 3,
      "metadata": {},
      "outputs": [],
      "source": [
        "# Country bounds and timeranges\n",
        "country_settings = {\n",
        "   SUDAN: {\n",
        "        COUNTRY_NAME: SUDAN,\n",
        "        START_DATE: '2019-07-01',\n",
        "        END_DATE: '2020-06-30',\n",
        "        BOUNDS: [[14.1, 33.1], [14.6, 33.6]]\n",
        "    },\n",
        "    AFGHANISTAN: {\n",
        "        COUNTRY_NAME: AFGHANISTAN,\n",
        "        START_DATE: '2022-04-01',\n",
        "        END_DATE: '2022-04-30',\n",
        "        BOUNDS: [[34.0, 70.2], [34.4, 70.8]]\n",
        "    },\n",
        "    IRAN: {\n",
        "        COUNTRY_NAME: IRAN,\n",
        "        START_DATE: '2019-07-01',\n",
        "        END_DATE: '2020-06-30',\n",
        "        BOUNDS: [[32.0, 48.1], [32.5, 48.6]]\n",
        "    }\n",
        "}"
      ]
    },
    {
      "cell_type": "markdown",
      "metadata": {
        "id": "LUMI_y00ANrX"
      },
      "source": [
        "# 1. Downloading the data from GEE\n",
        "\n",
        "In this part, timeserie data from Sentinel-2 is downloaded from GEE.\n",
        "\n",
        "\n",
        "1. Download the data from GEE, which might take up to 1h  \n",
        "OR\n",
        "2. Load the pre-downloaded data, which is much faster\n",
        "\n",
        "Please note that both options output the exact same data as of 06/10/2023 as the pre-dowloaded data is just a collection of .csv files saved from the data obtained with GEE. However, with possible future changes to the GEE Sentinel-2 collection, the pre-downloaded data might get outdata."
      ]
    },
    {
      "cell_type": "code",
      "execution_count": 4,
      "metadata": {
        "colab": {
          "base_uri": "https://localhost:8080/"
        },
        "id": "dVaj03wBBYlj",
        "outputId": "49211378-6813-46d9-bb6d-94ee9cc49af3"
      },
      "outputs": [],
      "source": [
        "# Run this cell if you want to download the data from GEE, this can take up to 1h and require 100MB~ of data available on your GEE account.\n",
        "# Also, please update the project-name to match your personal GEE project name.\n",
        "\n",
        "# Authenticate and initialize Earth Engine\n",
        "# ee.Authenticate()\n",
        "# ee.Initialize()"
      ]
    },
    {
      "cell_type": "code",
      "execution_count": 5,
      "metadata": {
        "id": "PLfGxMDMB9y3"
      },
      "outputs": [],
      "source": [
        "# ee_project_name = \"your project name in GEE\"\n",
        "PROJECT_NAME = \"ee-antoinesaget\""
      ]
    },
    {
      "cell_type": "code",
      "execution_count": 12,
      "metadata": {
        "id": "j8TpdxH4C4ck"
      },
      "outputs": [
        {
          "name": "stdout",
          "output_type": "stream",
          "text": [
            "########################################\n",
            "Dataset info:\n",
            "    Name : Full dataset\n",
            "    Train shape: (1500, 6)\n",
            "    Test shape: (1500, 6)\n",
            "    TrainTest shape: (3000, 6)\n",
            "    Center : [24.21, 51.94]\n",
            "    Bounds :\n",
            "        min : [14.10, 33.10]\n",
            "        max : [34.31, 70.78]\n",
            "    Train head:\n"
          ]
        },
        {
          "data": {
            "text/html": [
              "<div>\n",
              "<style scoped>\n",
              "    .dataframe tbody tr th:only-of-type {\n",
              "        vertical-align: middle;\n",
              "    }\n",
              "\n",
              "    .dataframe tbody tr th {\n",
              "        vertical-align: top;\n",
              "    }\n",
              "\n",
              "    .dataframe thead th {\n",
              "        text-align: right;\n",
              "    }\n",
              "</style>\n",
              "<table border=\"1\" class=\"dataframe\">\n",
              "  <thead>\n",
              "    <tr style=\"text-align: right;\">\n",
              "      <th></th>\n",
              "      <th>ID</th>\n",
              "      <th>Lat</th>\n",
              "      <th>Lon</th>\n",
              "      <th>Target</th>\n",
              "      <th>IsTrain</th>\n",
              "      <th>Country</th>\n",
              "    </tr>\n",
              "  </thead>\n",
              "  <tbody>\n",
              "    <tr>\n",
              "      <th>0</th>\n",
              "      <td>ID_SJ098E7S2SY9</td>\n",
              "      <td>34.162491</td>\n",
              "      <td>70.763668</td>\n",
              "      <td>0.0</td>\n",
              "      <td>True</td>\n",
              "      <td>Afghanistan</td>\n",
              "    </tr>\n",
              "    <tr>\n",
              "      <th>1</th>\n",
              "      <td>ID_CWCD60FGJJYY</td>\n",
              "      <td>32.075695</td>\n",
              "      <td>48.492047</td>\n",
              "      <td>0.0</td>\n",
              "      <td>True</td>\n",
              "      <td>Iran</td>\n",
              "    </tr>\n",
              "    <tr>\n",
              "      <th>2</th>\n",
              "      <td>ID_R1XF70RMVGL3</td>\n",
              "      <td>14.542826</td>\n",
              "      <td>33.313483</td>\n",
              "      <td>1.0</td>\n",
              "      <td>True</td>\n",
              "      <td>Sudan</td>\n",
              "    </tr>\n",
              "    <tr>\n",
              "      <th>3</th>\n",
              "      <td>ID_0ZBIDY0PEBVO</td>\n",
              "      <td>14.359480</td>\n",
              "      <td>33.284108</td>\n",
              "      <td>1.0</td>\n",
              "      <td>True</td>\n",
              "      <td>Sudan</td>\n",
              "    </tr>\n",
              "    <tr>\n",
              "      <th>4</th>\n",
              "      <td>ID_C20R2C0AYIT0</td>\n",
              "      <td>14.419128</td>\n",
              "      <td>33.528450</td>\n",
              "      <td>0.0</td>\n",
              "      <td>True</td>\n",
              "      <td>Sudan</td>\n",
              "    </tr>\n",
              "  </tbody>\n",
              "</table>\n",
              "</div>"
            ],
            "text/plain": [
              "                ID        Lat        Lon  Target  IsTrain      Country\n",
              "0  ID_SJ098E7S2SY9  34.162491  70.763668     0.0     True  Afghanistan\n",
              "1  ID_CWCD60FGJJYY  32.075695  48.492047     0.0     True         Iran\n",
              "2  ID_R1XF70RMVGL3  14.542826  33.313483     1.0     True        Sudan\n",
              "3  ID_0ZBIDY0PEBVO  14.359480  33.284108     1.0     True        Sudan\n",
              "4  ID_C20R2C0AYIT0  14.419128  33.528450     0.0     True        Sudan"
            ]
          },
          "metadata": {},
          "output_type": "display_data"
        },
        {
          "name": "stdout",
          "output_type": "stream",
          "text": [
            "    Test head:\n"
          ]
        },
        {
          "data": {
            "text/html": [
              "<div>\n",
              "<style scoped>\n",
              "    .dataframe tbody tr th:only-of-type {\n",
              "        vertical-align: middle;\n",
              "    }\n",
              "\n",
              "    .dataframe tbody tr th {\n",
              "        vertical-align: top;\n",
              "    }\n",
              "\n",
              "    .dataframe thead th {\n",
              "        text-align: right;\n",
              "    }\n",
              "</style>\n",
              "<table border=\"1\" class=\"dataframe\">\n",
              "  <thead>\n",
              "    <tr style=\"text-align: right;\">\n",
              "      <th></th>\n",
              "      <th>ID</th>\n",
              "      <th>Lat</th>\n",
              "      <th>Lon</th>\n",
              "      <th>Target</th>\n",
              "      <th>IsTrain</th>\n",
              "      <th>Country</th>\n",
              "    </tr>\n",
              "  </thead>\n",
              "  <tbody>\n",
              "    <tr>\n",
              "      <th>0</th>\n",
              "      <td>ID_9ZLHTVF6NSU7</td>\n",
              "      <td>34.254835</td>\n",
              "      <td>70.348699</td>\n",
              "      <td>NaN</td>\n",
              "      <td>False</td>\n",
              "      <td>Afghanistan</td>\n",
              "    </tr>\n",
              "    <tr>\n",
              "      <th>1</th>\n",
              "      <td>ID_LNN7BFCVEZKA</td>\n",
              "      <td>32.009669</td>\n",
              "      <td>48.535526</td>\n",
              "      <td>NaN</td>\n",
              "      <td>False</td>\n",
              "      <td>Iran</td>\n",
              "    </tr>\n",
              "    <tr>\n",
              "      <th>2</th>\n",
              "      <td>ID_SOYSG7W04UH3</td>\n",
              "      <td>14.431884</td>\n",
              "      <td>33.399991</td>\n",
              "      <td>NaN</td>\n",
              "      <td>False</td>\n",
              "      <td>Sudan</td>\n",
              "    </tr>\n",
              "    <tr>\n",
              "      <th>3</th>\n",
              "      <td>ID_EAP7EXXV8ZDE</td>\n",
              "      <td>14.281866</td>\n",
              "      <td>33.441224</td>\n",
              "      <td>NaN</td>\n",
              "      <td>False</td>\n",
              "      <td>Sudan</td>\n",
              "    </tr>\n",
              "    <tr>\n",
              "      <th>4</th>\n",
              "      <td>ID_QPRX1TUQVGHU</td>\n",
              "      <td>14.399365</td>\n",
              "      <td>33.109566</td>\n",
              "      <td>NaN</td>\n",
              "      <td>False</td>\n",
              "      <td>Sudan</td>\n",
              "    </tr>\n",
              "  </tbody>\n",
              "</table>\n",
              "</div>"
            ],
            "text/plain": [
              "                ID        Lat        Lon  Target  IsTrain      Country\n",
              "0  ID_9ZLHTVF6NSU7  34.254835  70.348699     NaN    False  Afghanistan\n",
              "1  ID_LNN7BFCVEZKA  32.009669  48.535526     NaN    False         Iran\n",
              "2  ID_SOYSG7W04UH3  14.431884  33.399991     NaN    False        Sudan\n",
              "3  ID_EAP7EXXV8ZDE  14.281866  33.441224     NaN    False        Sudan\n",
              "4  ID_QPRX1TUQVGHU  14.399365  33.109566     NaN    False        Sudan"
            ]
          },
          "metadata": {},
          "output_type": "display_data"
        },
        {
          "name": "stdout",
          "output_type": "stream",
          "text": [
            "########################################\n",
            "Country Sudan info:\n",
            "    Start date: 2019-07-01\n",
            "    End date: 2020-06-30\n",
            "    Train shape: (500, 6)\n",
            "    Test shape: (500, 6)\n",
            "Country Afghanistan info:\n",
            "    Start date: 2022-04-01\n",
            "    End date: 2022-04-30\n",
            "    Train shape: (500, 6)\n",
            "    Test shape: (500, 6)\n",
            "Country Iran info:\n",
            "    Start date: 2019-07-01\n",
            "    End date: 2020-06-30\n",
            "    Train shape: (500, 6)\n",
            "    Test shape: (500, 6)\n"
          ]
        }
      ],
      "source": [
        "from dataset import Dataset\n",
        "\n",
        "ds = Dataset.from_files('Train.csv', 'Test.csv', 'Full dataset', country_settings, debug_level=1)\n",
        "ds.load_all_optical_data()"
      ]
    },
    {
      "cell_type": "code",
      "execution_count": null,
      "metadata": {},
      "outputs": [],
      "source": []
    },
    {
      "cell_type": "markdown",
      "metadata": {},
      "source": [
        "# 5. Best model "
      ]
    },
    {
      "cell_type": "code",
      "execution_count": 1,
      "metadata": {},
      "outputs": [],
      "source": [
        "##### PLEASE SET THIS VARIABLE TO YOUR PROJECT NAME IN GEE #####\n",
        "PROJECT_NAME = \"ee-antoinesaget\""
      ]
    },
    {
      "cell_type": "code",
      "execution_count": 2,
      "metadata": {},
      "outputs": [],
      "source": [
        "# Imports and seeds initializations\n",
        "import random\n",
        "import ee\n",
        "\n",
        "import numpy as np\n",
        "import pandas as pd\n",
        "\n",
        "from dataset import Dataset, Dataset_training_ready\n",
        "from model import Model, rf_builder_shallow\n",
        "from constants import SUDAN, AFGHANISTAN, IRAN, COUNTRY_NAME, START_DATE, END_DATE, BOUNDS, TARGET, B2, B3, B4, B8, LON, LAT, NDVI, SCL\n",
        "from utils import save_submission\n",
        "\n",
        "# Set seeds for reproducibility\n",
        "SEED = 2023\n",
        "random.seed(SEED)\n",
        "np.random.seed(SEED)"
      ]
    },
    {
      "cell_type": "code",
      "execution_count": 3,
      "metadata": {},
      "outputs": [],
      "source": [
        "# Authenticate and initialize Earth Engine\n",
        "# ee.Authenticate()\n",
        "ee.Initialize()"
      ]
    },
    {
      "cell_type": "code",
      "execution_count": 4,
      "metadata": {},
      "outputs": [],
      "source": [
        "# Country bounds and timeranges\n",
        "country_settings = {\n",
        "   SUDAN: {\n",
        "        COUNTRY_NAME: SUDAN,\n",
        "        START_DATE: '2019-07-01',\n",
        "        END_DATE: '2020-06-30',\n",
        "        BOUNDS: [[14.1, 33.1], [14.6, 33.6]]\n",
        "    },\n",
        "    AFGHANISTAN: {\n",
        "        COUNTRY_NAME: AFGHANISTAN,\n",
        "        START_DATE: '2022-04-01',\n",
        "        END_DATE: '2022-04-30',\n",
        "        BOUNDS: [[34.0, 70.2], [34.4, 70.8]]\n",
        "    },\n",
        "    IRAN: {\n",
        "        COUNTRY_NAME: IRAN,\n",
        "        START_DATE: '2019-07-01',\n",
        "        END_DATE: '2020-06-30',\n",
        "        BOUNDS: [[32.0, 48.1], [32.5, 48.6]]\n",
        "    }\n",
        "}"
      ]
    },
    {
      "cell_type": "code",
      "execution_count": 5,
      "metadata": {},
      "outputs": [
        {
          "name": "stderr",
          "output_type": "stream",
          "text": [
            "/home/antoine/zindi/geo_ai_cropland_mapping_submission/dataset.py:35: FutureWarning: Setting an item of incompatible dtype is deprecated and will raise in a future error of pandas. Value 'Sudan' has dtype incompatible with float64, please explicitly cast to a compatible dtype first.\n",
            "  self._df.loc[mask, COUNTRY] = country[COUNTRY_NAME]\n"
          ]
        }
      ],
      "source": [
        "ds = Dataset.from_files('Train.csv', 'Test.csv', 'Full dataset', country_settings, debug_level=0)\n",
        "# With pandas==2.1.1 there might be a warning about the column type, it can be ignored\n",
        "# as it is fixed in next versions of pandas : https://github.com/pandas-dev/pandas/issues/55025"
      ]
    },
    {
      "cell_type": "code",
      "execution_count": 8,
      "metadata": {},
      "outputs": [
        {
          "name": "stdout",
          "output_type": "stream",
          "text": [
            "Number of predictions different from original submission : 0\n"
          ]
        }
      ],
      "source": [
        "# Please see 3. for more informations on bands choices\n",
        "bands = [B2, B3, B4, B8, LON, LAT, NDVI, SCL]\n",
        "\n",
        "# Please see 2. for more informations on timespans choices\n",
        "country_settings_optimal = {\n",
        "    SUDAN: {\n",
        "        COUNTRY_NAME: SUDAN,\n",
        "        START_DATE: '2019-05-29',\n",
        "        END_DATE: '2021-03-31',\n",
        "        BOUNDS: [[14.1, 33.1], [14.6, 33.6]]\n",
        "    },\n",
        "    AFGHANISTAN: {\n",
        "        COUNTRY_NAME: AFGHANISTAN,\n",
        "        START_DATE: '2021-06-27',\n",
        "        END_DATE: '2023-04-30',\n",
        "        BOUNDS: [[34.0, 70.2], [34.4, 70.8]]\n",
        "    },\n",
        "    IRAN: {\n",
        "        COUNTRY_NAME: IRAN,\n",
        "        START_DATE: '2018-08-28',\n",
        "        END_DATE: '2020-06-30',\n",
        "        BOUNDS: [[32.0, 48.1], [32.5, 48.6]]\n",
        "    }\n",
        "}\n",
        "\n",
        "# Loading optical data\n",
        "ds_ts = Dataset_training_ready.get_ts_data_from(\n",
        "    ds, bands, PROJECT_NAME, country_settings=country_settings_optimal)\n",
        "\n",
        "# Training and predicting\n",
        "# Our final model is a single shallow random forest (per country) of 100 trees and a max depth of 10.\n",
        "model = Model(rf_builder_shallow, ds_ts, SEED)\n",
        "model.train_on_full_dataset_one_per_country()\n",
        "preds, ids = model.predict_on_test()\n",
        "\n",
        "# Check diff between original submission and current predisions\n",
        "original = pd.read_csv('submissions/original_challenge_submission.csv', index_col='ID', usecols=['ID', TARGET])\n",
        "original[TARGET] = original[TARGET].astype('uint8')\n",
        "\n",
        "diff = original.loc[ids, TARGET] - preds\n",
        "diff = diff[diff != 0] # True on rows different from original submission, False otherwise\n",
        "print(f'Number of predictions different from original submission : {len(diff)}')"
      ]
    },
    {
      "cell_type": "code",
      "execution_count": 9,
      "metadata": {},
      "outputs": [],
      "source": [
        "save_submission(preds, ids, 'reproduction_of_original_submission')\n",
        "# Please note that a diff with the original submission and this one will not be 0.\n",
        "# By mistake, the original submission also included predictions of the training set.\n",
        "# This mean that the original submission is 3000 rows while this one is 1500 rows (only test set)\n",
        "# But the predictions on the test set are the same as shown in the above cell."
      ]
    }
  ],
  "metadata": {
    "colab": {
      "provenance": []
    },
    "kernelspec": {
      "display_name": "Python 3",
      "name": "python3"
    },
    "language_info": {
      "codemirror_mode": {
        "name": "ipython",
        "version": 3
      },
      "file_extension": ".py",
      "mimetype": "text/x-python",
      "name": "python",
      "nbconvert_exporter": "python",
      "pygments_lexer": "ipython3",
      "version": "3.10.12"
    }
  },
  "nbformat": 4,
  "nbformat_minor": 0
}
